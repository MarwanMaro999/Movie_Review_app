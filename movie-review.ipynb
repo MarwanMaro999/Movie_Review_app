{
 "cells": [
  {
   "cell_type": "markdown",
   "id": "dd482be7",
   "metadata": {
    "id": "VFDvTjqEhwHO",
    "papermill": {
     "duration": 0.009851,
     "end_time": "2024-10-18T11:26:30.930398",
     "exception": false,
     "start_time": "2024-10-18T11:26:30.920547",
     "status": "completed"
    },
    "tags": []
   },
   "source": [
    "# Imports"
   ]
  },
  {
   "cell_type": "code",
   "execution_count": 1,
   "id": "a69c3d9e",
   "metadata": {
    "execution": {
     "iopub.execute_input": "2024-10-18T11:26:30.952234Z",
     "iopub.status.busy": "2024-10-18T11:26:30.951317Z",
     "iopub.status.idle": "2024-10-18T11:26:45.779608Z",
     "shell.execute_reply": "2024-10-18T11:26:45.778818Z"
    },
    "id": "rx0CI4fUhcxg",
    "papermill": {
     "duration": 14.841095,
     "end_time": "2024-10-18T11:26:45.781964",
     "exception": false,
     "start_time": "2024-10-18T11:26:30.940869",
     "status": "completed"
    },
    "tags": []
   },
   "outputs": [],
   "source": [
    "import pandas as pd\n",
    "\n",
    "import numpy as np\n",
    "\n",
    "import matplotlib.pyplot as plt\n",
    "\n",
    "import seaborn as sns\n",
    "\n",
    "import tensorflow as tf\n",
    "\n",
    "import re\n",
    "\n",
    "import nltk\n",
    "\n",
    "from nltk.corpus import stopwords\n",
    "\n",
    "from nltk.stem import WordNetLemmatizer\n",
    "\n",
    "from nltk.tokenize import word_tokenize,sent_tokenize\n",
    "\n",
    "from tensorflow.keras.layers import Dense, Flatten, Conv2D, Dropout, BatchNormalization, MaxPooling2D, Embedding, LSTM, Bidirectional\n",
    "\n",
    "from tensorflow.keras.models import Sequential\n",
    "\n",
    "from tensorflow.keras.preprocessing.text import Tokenizer\n",
    "\n",
    "from tensorflow.keras.preprocessing.sequence import pad_sequences"
   ]
  },
  {
   "cell_type": "markdown",
   "id": "7959cba5",
   "metadata": {
    "id": "Kc8Fsxxnh6QC",
    "papermill": {
     "duration": 0.008847,
     "end_time": "2024-10-18T11:26:45.800468",
     "exception": false,
     "start_time": "2024-10-18T11:26:45.791621",
     "status": "completed"
    },
    "tags": []
   },
   "source": [
    "# Data"
   ]
  },
  {
   "cell_type": "code",
   "execution_count": 2,
   "id": "c563c142",
   "metadata": {
    "execution": {
     "iopub.execute_input": "2024-10-18T11:26:45.820197Z",
     "iopub.status.busy": "2024-10-18T11:26:45.819586Z",
     "iopub.status.idle": "2024-10-18T11:26:47.970712Z",
     "shell.execute_reply": "2024-10-18T11:26:47.969595Z"
    },
    "id": "N2i167Nih5kH",
    "outputId": "3daa03c5-0be4-4c5c-e2c9-485a74213960",
    "papermill": {
     "duration": 2.163743,
     "end_time": "2024-10-18T11:26:47.973212",
     "exception": false,
     "start_time": "2024-10-18T11:26:45.809469",
     "status": "completed"
    },
    "tags": []
   },
   "outputs": [
    {
     "name": "stderr",
     "output_type": "stream",
     "text": [
      "/opt/conda/lib/python3.10/pty.py:89: RuntimeWarning: os.fork() was called. os.fork() is incompatible with multithreaded code, and JAX is multithreaded, so this will likely lead to a deadlock.\n",
      "  pid, fd = os.forkpty()\n"
     ]
    },
    {
     "name": "stdout",
     "output_type": "stream",
     "text": [
      "Dataset URL: https://www.kaggle.com/datasets/yasserh/imdb-movie-ratings-sentiment-analysis\r\n",
      "License(s): CC0-1.0\r\n",
      "Downloading imdb-movie-ratings-sentiment-analysis.zip to /kaggle/working\r\n",
      " 24%|█████████▏                            | 5.00M/20.6M [00:00<00:00, 52.3MB/s]\r\n",
      "100%|███████████████████████████████████████| 20.6M/20.6M [00:00<00:00, 117MB/s]\r\n"
     ]
    }
   ],
   "source": [
    "!kaggle datasets download -d yasserh/imdb-movie-ratings-sentiment-analysis"
   ]
  },
  {
   "cell_type": "code",
   "execution_count": 3,
   "id": "96f71e90",
   "metadata": {
    "execution": {
     "iopub.execute_input": "2024-10-18T11:26:47.994462Z",
     "iopub.status.busy": "2024-10-18T11:26:47.994086Z",
     "iopub.status.idle": "2024-10-18T11:26:49.531157Z",
     "shell.execute_reply": "2024-10-18T11:26:49.530012Z"
    },
    "id": "cdJfufW3h8Tt",
    "outputId": "2336358a-3f86-40cf-8f3f-f0906753d958",
    "papermill": {
     "duration": 1.550406,
     "end_time": "2024-10-18T11:26:49.533569",
     "exception": false,
     "start_time": "2024-10-18T11:26:47.983163",
     "status": "completed"
    },
    "tags": []
   },
   "outputs": [
    {
     "name": "stdout",
     "output_type": "stream",
     "text": [
      "Archive:  imdb-movie-ratings-sentiment-analysis.zip\r\n",
      "  inflating: movie.csv               \r\n"
     ]
    }
   ],
   "source": [
    "!unzip imdb-movie-ratings-sentiment-analysis.zip"
   ]
  },
  {
   "cell_type": "code",
   "execution_count": 4,
   "id": "7967c398",
   "metadata": {
    "execution": {
     "iopub.execute_input": "2024-10-18T11:26:49.554912Z",
     "iopub.status.busy": "2024-10-18T11:26:49.554558Z",
     "iopub.status.idle": "2024-10-18T11:26:50.096175Z",
     "shell.execute_reply": "2024-10-18T11:26:50.095217Z"
    },
    "id": "_rbzJgpwiG7_",
    "outputId": "14a5ca80-a8ed-4fa5-a360-aa687202bba0",
    "papermill": {
     "duration": 0.554628,
     "end_time": "2024-10-18T11:26:50.098306",
     "exception": false,
     "start_time": "2024-10-18T11:26:49.543678",
     "status": "completed"
    },
    "tags": []
   },
   "outputs": [
    {
     "data": {
      "text/html": [
       "<div>\n",
       "<style scoped>\n",
       "    .dataframe tbody tr th:only-of-type {\n",
       "        vertical-align: middle;\n",
       "    }\n",
       "\n",
       "    .dataframe tbody tr th {\n",
       "        vertical-align: top;\n",
       "    }\n",
       "\n",
       "    .dataframe thead th {\n",
       "        text-align: right;\n",
       "    }\n",
       "</style>\n",
       "<table border=\"1\" class=\"dataframe\">\n",
       "  <thead>\n",
       "    <tr style=\"text-align: right;\">\n",
       "      <th></th>\n",
       "      <th>text</th>\n",
       "      <th>label</th>\n",
       "    </tr>\n",
       "  </thead>\n",
       "  <tbody>\n",
       "    <tr>\n",
       "      <th>0</th>\n",
       "      <td>I grew up (b. 1965) watching and loving the Th...</td>\n",
       "      <td>0</td>\n",
       "    </tr>\n",
       "    <tr>\n",
       "      <th>1</th>\n",
       "      <td>When I put this movie in my DVD player, and sa...</td>\n",
       "      <td>0</td>\n",
       "    </tr>\n",
       "    <tr>\n",
       "      <th>2</th>\n",
       "      <td>Why do people who do not know what a particula...</td>\n",
       "      <td>0</td>\n",
       "    </tr>\n",
       "    <tr>\n",
       "      <th>3</th>\n",
       "      <td>Even though I have great interest in Biblical ...</td>\n",
       "      <td>0</td>\n",
       "    </tr>\n",
       "    <tr>\n",
       "      <th>4</th>\n",
       "      <td>Im a die hard Dads Army fan and nothing will e...</td>\n",
       "      <td>1</td>\n",
       "    </tr>\n",
       "  </tbody>\n",
       "</table>\n",
       "</div>"
      ],
      "text/plain": [
       "                                                text  label\n",
       "0  I grew up (b. 1965) watching and loving the Th...      0\n",
       "1  When I put this movie in my DVD player, and sa...      0\n",
       "2  Why do people who do not know what a particula...      0\n",
       "3  Even though I have great interest in Biblical ...      0\n",
       "4  Im a die hard Dads Army fan and nothing will e...      1"
      ]
     },
     "execution_count": 4,
     "metadata": {},
     "output_type": "execute_result"
    }
   ],
   "source": [
    "df=pd.read_csv('movie.csv')\n",
    "\n",
    "df.head()"
   ]
  },
  {
   "cell_type": "markdown",
   "id": "3cece4cb",
   "metadata": {
    "id": "vOqNT85NiQX1",
    "papermill": {
     "duration": 0.010393,
     "end_time": "2024-10-18T11:26:50.119019",
     "exception": false,
     "start_time": "2024-10-18T11:26:50.108626",
     "status": "completed"
    },
    "tags": []
   },
   "source": [
    "### Here that is a data classification so i dont need the sequence\n",
    "\n",
    "### so what i will do after cleaning:\n",
    "\n",
    "### 1- Tokenize and remove punctuation\n",
    "\n",
    "### 2- Remove stop words\n",
    "\n",
    "### 3- lemmatization\n",
    "\n",
    "### 4- do TF-IDF\n",
    "\n",
    "### 5- Modeling"
   ]
  },
  {
   "cell_type": "markdown",
   "id": "3f8011cd",
   "metadata": {
    "id": "Jz91VPw_kP9m",
    "papermill": {
     "duration": 0.009637,
     "end_time": "2024-10-18T11:26:50.139581",
     "exception": false,
     "start_time": "2024-10-18T11:26:50.129944",
     "status": "completed"
    },
    "tags": []
   },
   "source": [
    "### cleaning data"
   ]
  },
  {
   "cell_type": "code",
   "execution_count": 5,
   "id": "85598487",
   "metadata": {
    "execution": {
     "iopub.execute_input": "2024-10-18T11:26:50.161065Z",
     "iopub.status.busy": "2024-10-18T11:26:50.160673Z",
     "iopub.status.idle": "2024-10-18T11:26:50.176953Z",
     "shell.execute_reply": "2024-10-18T11:26:50.175886Z"
    },
    "id": "nt4kKmiHiKbM",
    "outputId": "03180263-f65d-4961-f6b0-3689ac358d95",
    "papermill": {
     "duration": 0.029461,
     "end_time": "2024-10-18T11:26:50.178960",
     "exception": false,
     "start_time": "2024-10-18T11:26:50.149499",
     "status": "completed"
    },
    "tags": []
   },
   "outputs": [
    {
     "data": {
      "text/plain": [
       "text     0\n",
       "label    0\n",
       "dtype: int64"
      ]
     },
     "execution_count": 5,
     "metadata": {},
     "output_type": "execute_result"
    }
   ],
   "source": [
    "df.isna().sum()"
   ]
  },
  {
   "cell_type": "code",
   "execution_count": 6,
   "id": "e3d0a286",
   "metadata": {
    "execution": {
     "iopub.execute_input": "2024-10-18T11:26:50.201874Z",
     "iopub.status.busy": "2024-10-18T11:26:50.200897Z",
     "iopub.status.idle": "2024-10-18T11:26:50.342610Z",
     "shell.execute_reply": "2024-10-18T11:26:50.341690Z"
    },
    "id": "zOB4WizCja0v",
    "outputId": "7af43208-24d3-4406-a75a-9cbdc2eb99d6",
    "papermill": {
     "duration": 0.155405,
     "end_time": "2024-10-18T11:26:50.344686",
     "exception": false,
     "start_time": "2024-10-18T11:26:50.189281",
     "status": "completed"
    },
    "tags": []
   },
   "outputs": [
    {
     "data": {
      "text/plain": [
       "277"
      ]
     },
     "execution_count": 6,
     "metadata": {},
     "output_type": "execute_result"
    }
   ],
   "source": [
    "df.duplicated().sum()"
   ]
  },
  {
   "cell_type": "code",
   "execution_count": 7,
   "id": "488c7ec4",
   "metadata": {
    "execution": {
     "iopub.execute_input": "2024-10-18T11:26:50.368858Z",
     "iopub.status.busy": "2024-10-18T11:26:50.368044Z",
     "iopub.status.idle": "2024-10-18T11:26:50.495258Z",
     "shell.execute_reply": "2024-10-18T11:26:50.494417Z"
    },
    "id": "fPvFvtzyjcjG",
    "papermill": {
     "duration": 0.142348,
     "end_time": "2024-10-18T11:26:50.497569",
     "exception": false,
     "start_time": "2024-10-18T11:26:50.355221",
     "status": "completed"
    },
    "tags": []
   },
   "outputs": [],
   "source": [
    "df.drop_duplicates(inplace=True)"
   ]
  },
  {
   "cell_type": "code",
   "execution_count": 8,
   "id": "b14c7682",
   "metadata": {
    "execution": {
     "iopub.execute_input": "2024-10-18T11:26:50.520253Z",
     "iopub.status.busy": "2024-10-18T11:26:50.519572Z",
     "iopub.status.idle": "2024-10-18T11:26:50.544218Z",
     "shell.execute_reply": "2024-10-18T11:26:50.543135Z"
    },
    "id": "47cgx0e4jete",
    "outputId": "c58bbe6b-d605-4fe1-ee7f-7eed3e6d1c6f",
    "papermill": {
     "duration": 0.038098,
     "end_time": "2024-10-18T11:26:50.546257",
     "exception": false,
     "start_time": "2024-10-18T11:26:50.508159",
     "status": "completed"
    },
    "tags": []
   },
   "outputs": [
    {
     "name": "stdout",
     "output_type": "stream",
     "text": [
      "<class 'pandas.core.frame.DataFrame'>\n",
      "Index: 39723 entries, 0 to 39999\n",
      "Data columns (total 2 columns):\n",
      " #   Column  Non-Null Count  Dtype \n",
      "---  ------  --------------  ----- \n",
      " 0   text    39723 non-null  object\n",
      " 1   label   39723 non-null  int64 \n",
      "dtypes: int64(1), object(1)\n",
      "memory usage: 931.0+ KB\n"
     ]
    }
   ],
   "source": [
    "df.info()"
   ]
  },
  {
   "cell_type": "code",
   "execution_count": 9,
   "id": "8c3aae3c",
   "metadata": {
    "execution": {
     "iopub.execute_input": "2024-10-18T11:26:50.568483Z",
     "iopub.status.busy": "2024-10-18T11:26:50.567723Z",
     "iopub.status.idle": "2024-10-18T11:26:50.573640Z",
     "shell.execute_reply": "2024-10-18T11:26:50.572740Z"
    },
    "id": "NHiBWCWEjgdA",
    "outputId": "efe09a00-0a2a-4e51-8cc4-3ef388b4cf38",
    "papermill": {
     "duration": 0.019066,
     "end_time": "2024-10-18T11:26:50.575630",
     "exception": false,
     "start_time": "2024-10-18T11:26:50.556564",
     "status": "completed"
    },
    "tags": []
   },
   "outputs": [
    {
     "data": {
      "text/plain": [
       "Index(['text', 'label'], dtype='object')"
      ]
     },
     "execution_count": 9,
     "metadata": {},
     "output_type": "execute_result"
    }
   ],
   "source": [
    "df.columns"
   ]
  },
  {
   "cell_type": "code",
   "execution_count": 10,
   "id": "06e45a0c",
   "metadata": {
    "execution": {
     "iopub.execute_input": "2024-10-18T11:26:50.597510Z",
     "iopub.status.busy": "2024-10-18T11:26:50.597200Z",
     "iopub.status.idle": "2024-10-18T11:26:50.606918Z",
     "shell.execute_reply": "2024-10-18T11:26:50.605962Z"
    },
    "id": "4nh8xFDOjk4i",
    "outputId": "e04f725f-05f4-4eb4-b9bf-01d23436008f",
    "papermill": {
     "duration": 0.022812,
     "end_time": "2024-10-18T11:26:50.608737",
     "exception": false,
     "start_time": "2024-10-18T11:26:50.585925",
     "status": "completed"
    },
    "tags": []
   },
   "outputs": [
    {
     "data": {
      "text/plain": [
       "label\n",
       "1    19908\n",
       "0    19815\n",
       "Name: count, dtype: int64"
      ]
     },
     "execution_count": 10,
     "metadata": {},
     "output_type": "execute_result"
    }
   ],
   "source": [
    "df['label'].value_counts() ### to check data imbalance"
   ]
  },
  {
   "cell_type": "code",
   "execution_count": 11,
   "id": "c23d9f2d",
   "metadata": {
    "execution": {
     "iopub.execute_input": "2024-10-18T11:26:50.631752Z",
     "iopub.status.busy": "2024-10-18T11:26:50.631023Z",
     "iopub.status.idle": "2024-10-18T11:26:50.637403Z",
     "shell.execute_reply": "2024-10-18T11:26:50.636570Z"
    },
    "id": "XxndwwORjpIm",
    "outputId": "f27527a6-194e-4e04-ec47-5d646ea66a37",
    "papermill": {
     "duration": 0.019902,
     "end_time": "2024-10-18T11:26:50.639514",
     "exception": false,
     "start_time": "2024-10-18T11:26:50.619612",
     "status": "completed"
    },
    "tags": []
   },
   "outputs": [
    {
     "data": {
      "text/plain": [
       "array([0, 1])"
      ]
     },
     "execution_count": 11,
     "metadata": {},
     "output_type": "execute_result"
    }
   ],
   "source": [
    "df['label'].unique()"
   ]
  },
  {
   "cell_type": "code",
   "execution_count": 12,
   "id": "98b8c548",
   "metadata": {
    "execution": {
     "iopub.execute_input": "2024-10-18T11:26:50.661825Z",
     "iopub.status.busy": "2024-10-18T11:26:50.661519Z",
     "iopub.status.idle": "2024-10-18T11:26:52.149508Z",
     "shell.execute_reply": "2024-10-18T11:26:52.147785Z"
    },
    "id": "vK2udftSnisk",
    "outputId": "33ad968e-e63b-4ab6-dc04-26c1317adfb5",
    "papermill": {
     "duration": 1.502181,
     "end_time": "2024-10-18T11:26:52.152249",
     "exception": false,
     "start_time": "2024-10-18T11:26:50.650068",
     "status": "completed"
    },
    "tags": []
   },
   "outputs": [
    {
     "name": "stdout",
     "output_type": "stream",
     "text": [
      "[nltk_data] Downloading package punkt to /usr/share/nltk_data...\n",
      "[nltk_data]   Package punkt is already up-to-date!\n",
      "[nltk_data] Downloading package stopwords to /usr/share/nltk_data...\n",
      "[nltk_data]   Package stopwords is already up-to-date!\n",
      "[nltk_data] Downloading package wordnet to /usr/share/nltk_data...\n",
      "[nltk_data]   Package wordnet is already up-to-date!\n"
     ]
    },
    {
     "name": "stderr",
     "output_type": "stream",
     "text": [
      "/opt/conda/lib/python3.10/pty.py:89: RuntimeWarning: os.fork() was called. os.fork() is incompatible with multithreaded code, and JAX is multithreaded, so this will likely lead to a deadlock.\n",
      "  pid, fd = os.forkpty()\n"
     ]
    },
    {
     "name": "stdout",
     "output_type": "stream",
     "text": [
      "Archive:  /usr/share/nltk_data/corpora/wordnet.zip\r\n",
      "   creating: /usr/share/nltk_data/corpora/wordnet/\r\n",
      "  inflating: /usr/share/nltk_data/corpora/wordnet/lexnames  \r\n",
      "  inflating: /usr/share/nltk_data/corpora/wordnet/data.verb  \r\n",
      "  inflating: /usr/share/nltk_data/corpora/wordnet/index.adv  \r\n",
      "  inflating: /usr/share/nltk_data/corpora/wordnet/adv.exc  \r\n",
      "  inflating: /usr/share/nltk_data/corpora/wordnet/index.verb  \r\n",
      "  inflating: /usr/share/nltk_data/corpora/wordnet/cntlist.rev  \r\n",
      "  inflating: /usr/share/nltk_data/corpora/wordnet/data.adj  \r\n",
      "  inflating: /usr/share/nltk_data/corpora/wordnet/index.adj  \r\n",
      "  inflating: /usr/share/nltk_data/corpora/wordnet/LICENSE  \r\n",
      "  inflating: /usr/share/nltk_data/corpora/wordnet/citation.bib  \r\n",
      "  inflating: /usr/share/nltk_data/corpora/wordnet/noun.exc  \r\n",
      "  inflating: /usr/share/nltk_data/corpora/wordnet/verb.exc  \r\n",
      "  inflating: /usr/share/nltk_data/corpora/wordnet/README  \r\n",
      "  inflating: /usr/share/nltk_data/corpora/wordnet/index.sense  \r\n",
      "  inflating: /usr/share/nltk_data/corpora/wordnet/data.noun  \r\n",
      "  inflating: /usr/share/nltk_data/corpora/wordnet/data.adv  \r\n",
      "  inflating: /usr/share/nltk_data/corpora/wordnet/index.noun  \r\n",
      "  inflating: /usr/share/nltk_data/corpora/wordnet/adj.exc  \r\n"
     ]
    }
   ],
   "source": [
    "nltk.download('punkt')\n",
    "\n",
    "nltk.download('stopwords')\n",
    "\n",
    "nltk.download('wordnet')\n",
    "!unzip /usr/share/nltk_data/corpora/wordnet.zip -d /usr/share/nltk_data/corpora/\n"
   ]
  },
  {
   "cell_type": "code",
   "execution_count": 13,
   "id": "a19b2b30",
   "metadata": {
    "execution": {
     "iopub.execute_input": "2024-10-18T11:26:52.177014Z",
     "iopub.status.busy": "2024-10-18T11:26:52.176584Z",
     "iopub.status.idle": "2024-10-18T11:26:52.188064Z",
     "shell.execute_reply": "2024-10-18T11:26:52.187321Z"
    },
    "id": "-ug7b3pt1eb7",
    "papermill": {
     "duration": 0.0262,
     "end_time": "2024-10-18T11:26:52.189977",
     "exception": false,
     "start_time": "2024-10-18T11:26:52.163777",
     "status": "completed"
    },
    "tags": []
   },
   "outputs": [],
   "source": [
    "stop_words = set(stopwords.words('english'))\n",
    "\n",
    "lemmatizer = WordNetLemmatizer()\n",
    "\n",
    "\n",
    "\n",
    "def clean_text(text):\n",
    "\n",
    "    if isinstance(text, list):\n",
    "\n",
    "        text = \" \".join(text)\n",
    "\n",
    "    text = text.lower()\n",
    "\n",
    "    text = re.sub(r\"[^a-z!?',.\\s ]\", \"\", text)\n",
    "\n",
    "    text = re.sub(r'\\b(`|``)\\b', '\"', text)\n",
    "\n",
    "    text = re.sub(r\"\\s+\", \" \", text)\n",
    "\n",
    "    text = re.sub(r\"\\b(im)\\b\",\"i'm\",text)\n",
    "\n",
    "    text = re.sub(r'\\b(br|b)\\b', '', text)\n",
    "\n",
    "    text = re.sub(r\"\\b(\\s's)/b\",\"'s\",text)\n",
    "\n",
    "    tokens = word_tokenize(text)\n",
    "\n",
    "    tokens = [token for token in tokens if token not in stop_words]\n",
    "\n",
    "    tokens = [lemmatizer.lemmatize(token) for token in tokens]\n",
    "\n",
    "    cleaned_text = \" \".join(tokens)\n",
    "\n",
    "    return cleaned_text\n"
   ]
  },
  {
   "cell_type": "code",
   "execution_count": 14,
   "id": "1507580d",
   "metadata": {
    "execution": {
     "iopub.execute_input": "2024-10-18T11:26:52.214028Z",
     "iopub.status.busy": "2024-10-18T11:26:52.213673Z",
     "iopub.status.idle": "2024-10-18T11:30:17.881557Z",
     "shell.execute_reply": "2024-10-18T11:30:17.880741Z"
    },
    "id": "CybLMiJE3Gqa",
    "papermill": {
     "duration": 205.682773,
     "end_time": "2024-10-18T11:30:17.884112",
     "exception": false,
     "start_time": "2024-10-18T11:26:52.201339",
     "status": "completed"
    },
    "tags": []
   },
   "outputs": [],
   "source": [
    "for index, row in df.iterrows():\n",
    "\n",
    "    df.loc[index, 'text'] = clean_text(row['text'])"
   ]
  },
  {
   "cell_type": "code",
   "execution_count": 15,
   "id": "90e0df68",
   "metadata": {
    "execution": {
     "iopub.execute_input": "2024-10-18T11:30:17.908240Z",
     "iopub.status.busy": "2024-10-18T11:30:17.907617Z",
     "iopub.status.idle": "2024-10-18T11:30:17.913832Z",
     "shell.execute_reply": "2024-10-18T11:30:17.912974Z"
    },
    "id": "Y-7a9B0h6UyJ",
    "outputId": "044c5b45-a165-40b2-8dcf-d0759aeac1e3",
    "papermill": {
     "duration": 0.02009,
     "end_time": "2024-10-18T11:30:17.915735",
     "exception": false,
     "start_time": "2024-10-18T11:30:17.895645",
     "status": "completed"
    },
    "tags": []
   },
   "outputs": [
    {
     "data": {
      "text/plain": [
       "\"western union something forgotten classic western ! perhaps reason lie fact unavailability dvd united state . however , lost appeared region england . blessing way incongruous totally ironic one considers movie depicting founding establishment uniquely american organization western union telegraph company without region release . beggar belief ! simply n't make sense ! produced fox western union directed fritz lang . second occasion great german director undertook direct western ! done excellent job year fox 's return frank james would one western outing splendid rancho notorious . lang ford hawk western union turned fine solid western hold well . beautifully photographed early three strip technicolor edward cronjager boasted good cast headed robert young , randolph scott dean jagger . female lead taken virginia gilmore really little picture . actress never made anything career . presence merely cosmetic . curious robert young top billing scott ! clearly scott 's picture beginning first see film 's terrific opening scene chased posse across plain . young n't much throughout movie seems place western . look plain silly going barton mclane gunfight ! actor never really distinguished except perhaps crossfire young appeared string forgettable romantic comedy forty fifty culminating greatest success seven year tv 's marcus welby md seventy . died age . western union recount connection telegraph wire omaha salt lake city . scott play reformed outlaw hired western union bos dean jagger protect line marauding sioux also take mclane gang trying destroy line devious end . robert young young engineer back east join company vies scott affection miss gilmore . comic relief provided irritatingly would say slim summerville john carradine turn meager role company doctor . altogether though spanking good western , albeit region , sparkling good quality fan delighted . crib extra , even trailer terrible cover dull graphic . ugh ! footnote interestingly associate producer western union harry joe brown later randolph scott would create partnership would produce scott 's finest western fifty .\""
      ]
     },
     "execution_count": 15,
     "metadata": {},
     "output_type": "execute_result"
    }
   ],
   "source": [
    "df['text'][39995]"
   ]
  },
  {
   "cell_type": "markdown",
   "id": "7049987b",
   "metadata": {
    "id": "yH652UsoxdOi",
    "papermill": {
     "duration": 0.010803,
     "end_time": "2024-10-18T11:30:17.937690",
     "exception": false,
     "start_time": "2024-10-18T11:30:17.926887",
     "status": "completed"
    },
    "tags": []
   },
   "source": [
    "# train-test-split"
   ]
  },
  {
   "cell_type": "code",
   "execution_count": 16,
   "id": "2530fdf5",
   "metadata": {
    "execution": {
     "iopub.execute_input": "2024-10-18T11:30:17.961926Z",
     "iopub.status.busy": "2024-10-18T11:30:17.961232Z",
     "iopub.status.idle": "2024-10-18T11:30:17.973179Z",
     "shell.execute_reply": "2024-10-18T11:30:17.972458Z"
    },
    "id": "pW2tB8RUxfzF",
    "papermill": {
     "duration": 0.02628,
     "end_time": "2024-10-18T11:30:17.975212",
     "exception": false,
     "start_time": "2024-10-18T11:30:17.948932",
     "status": "completed"
    },
    "tags": []
   },
   "outputs": [],
   "source": [
    "from sklearn.model_selection import train_test_split\n",
    "\n",
    "x_train,x_test,y_train,y_test=train_test_split(df['text'],df['label'],test_size=0.2,random_state=42)"
   ]
  },
  {
   "cell_type": "markdown",
   "id": "4b456b45",
   "metadata": {
    "id": "F6jPcs3xwihY",
    "papermill": {
     "duration": 0.010885,
     "end_time": "2024-10-18T11:30:17.997334",
     "exception": false,
     "start_time": "2024-10-18T11:30:17.986449",
     "status": "completed"
    },
    "tags": []
   },
   "source": [
    "# Prepare data for Embedding layer\n",
    "\n",
    "### 1-Tokenizer\n",
    "\n",
    "### 2-sequences\n",
    "\n",
    "### 3-maxsequence\n",
    "\n",
    "### 4-padding\n",
    "\n",
    "### 5-model"
   ]
  },
  {
   "cell_type": "code",
   "execution_count": 17,
   "id": "8d8da7ed",
   "metadata": {
    "execution": {
     "iopub.execute_input": "2024-10-18T11:30:18.021526Z",
     "iopub.status.busy": "2024-10-18T11:30:18.020726Z",
     "iopub.status.idle": "2024-10-18T11:30:18.025159Z",
     "shell.execute_reply": "2024-10-18T11:30:18.024273Z"
    },
    "id": "1ajD8AhUGN_Z",
    "papermill": {
     "duration": 0.018541,
     "end_time": "2024-10-18T11:30:18.026995",
     "exception": false,
     "start_time": "2024-10-18T11:30:18.008454",
     "status": "completed"
    },
    "tags": []
   },
   "outputs": [],
   "source": [
    "from tensorflow.keras.preprocessing.text import Tokenizer\n",
    "\n",
    "from tensorflow.keras.preprocessing.sequence import pad_sequences"
   ]
  },
  {
   "cell_type": "code",
   "execution_count": 18,
   "id": "b70a4e63",
   "metadata": {
    "execution": {
     "iopub.execute_input": "2024-10-18T11:30:18.050627Z",
     "iopub.status.busy": "2024-10-18T11:30:18.050080Z",
     "iopub.status.idle": "2024-10-18T11:30:26.576981Z",
     "shell.execute_reply": "2024-10-18T11:30:26.576183Z"
    },
    "id": "2ShLaTdQ949B",
    "papermill": {
     "duration": 8.541173,
     "end_time": "2024-10-18T11:30:26.579313",
     "exception": false,
     "start_time": "2024-10-18T11:30:18.038140",
     "status": "completed"
    },
    "tags": []
   },
   "outputs": [],
   "source": [
    "tokenzier=Tokenizer()\n",
    "\n",
    "tokenzier.fit_on_texts(df['text'])\n",
    "\n",
    "length=len(tokenzier.word_index) + 1\n",
    "\n",
    "seq_train=tokenzier.texts_to_sequences(df['text'])\n",
    "\n",
    "max_len=max([len(i) for i in seq_train])\n",
    "\n",
    "padded_sequences = pad_sequences(seq_train, maxlen=max_len, padding='post')\n",
    "\n",
    "df['padded_text'] = list(padded_sequences)\n"
   ]
  },
  {
   "cell_type": "code",
   "execution_count": 19,
   "id": "d65ad632",
   "metadata": {
    "execution": {
     "iopub.execute_input": "2024-10-18T11:30:26.604260Z",
     "iopub.status.busy": "2024-10-18T11:30:26.603203Z",
     "iopub.status.idle": "2024-10-18T11:30:26.609165Z",
     "shell.execute_reply": "2024-10-18T11:30:26.608297Z"
    },
    "id": "ejT_dGbtU6E1",
    "outputId": "d1ea7a81-2b05-4690-dd8d-16508ae0847c",
    "papermill": {
     "duration": 0.020351,
     "end_time": "2024-10-18T11:30:26.611211",
     "exception": false,
     "start_time": "2024-10-18T11:30:26.590860",
     "status": "completed"
    },
    "tags": []
   },
   "outputs": [
    {
     "data": {
      "text/plain": [
       "(119511, 1451)"
      ]
     },
     "execution_count": 19,
     "metadata": {},
     "output_type": "execute_result"
    }
   ],
   "source": [
    "length,max_len"
   ]
  },
  {
   "cell_type": "code",
   "execution_count": 20,
   "id": "dfdcb6c7",
   "metadata": {
    "execution": {
     "iopub.execute_input": "2024-10-18T11:30:26.635463Z",
     "iopub.status.busy": "2024-10-18T11:30:26.635129Z",
     "iopub.status.idle": "2024-10-18T11:30:26.793790Z",
     "shell.execute_reply": "2024-10-18T11:30:26.792746Z"
    },
    "id": "xwxY1lL-Cg2O",
    "papermill": {
     "duration": 0.173637,
     "end_time": "2024-10-18T11:30:26.796309",
     "exception": false,
     "start_time": "2024-10-18T11:30:26.622672",
     "status": "completed"
    },
    "tags": []
   },
   "outputs": [],
   "source": [
    "x = np.array(padded_sequences)\n",
    "\n",
    "y = np.array(df['label'])\n",
    "\n",
    "from sklearn.model_selection import train_test_split\n",
    "\n",
    "\n",
    "\n",
    "X_train, X_val, y_train, y_val = train_test_split(x, y, test_size=0.2, random_state=42)"
   ]
  },
  {
   "cell_type": "code",
   "execution_count": 21,
   "id": "10953e31",
   "metadata": {
    "execution": {
     "iopub.execute_input": "2024-10-18T11:30:26.820739Z",
     "iopub.status.busy": "2024-10-18T11:30:26.820363Z",
     "iopub.status.idle": "2024-10-18T11:30:27.513446Z",
     "shell.execute_reply": "2024-10-18T11:30:27.512670Z"
    },
    "id": "qFJ9b7vLD4AQ",
    "papermill": {
     "duration": 0.707611,
     "end_time": "2024-10-18T11:30:27.515624",
     "exception": false,
     "start_time": "2024-10-18T11:30:26.808013",
     "status": "completed"
    },
    "tags": []
   },
   "outputs": [
    {
     "name": "stderr",
     "output_type": "stream",
     "text": [
      "/opt/conda/lib/python3.10/site-packages/keras/src/layers/core/embedding.py:90: UserWarning: Argument `input_length` is deprecated. Just remove it.\n",
      "  warnings.warn(\n"
     ]
    }
   ],
   "source": [
    "from tensorflow.keras.regularizers import l2 \n",
    "model = Sequential()\n",
    "\n",
    "model.add(Embedding(input_dim=length, output_dim=100, input_length=max_len,mask_zero=True))\n",
    "\n",
    "model.add(LSTM(32,kernel_regularizer=l2(0.01)))\n",
    "\n",
    "model.add(Dense(1, activation='sigmoid'))\n",
    "\n",
    "model.compile(optimizer='adam',loss='binary_crossentropy',metrics=['accuracy'])"
   ]
  },
  {
   "cell_type": "code",
   "execution_count": 22,
   "id": "ad715dd5",
   "metadata": {
    "execution": {
     "iopub.execute_input": "2024-10-18T11:30:27.540419Z",
     "iopub.status.busy": "2024-10-18T11:30:27.540059Z",
     "iopub.status.idle": "2024-10-18T11:34:29.303517Z",
     "shell.execute_reply": "2024-10-18T11:34:29.302634Z"
    },
    "id": "Zxju6irOE5om",
    "outputId": "30aeeb0d-ebec-47d8-955c-78813c668b16",
    "papermill": {
     "duration": 242.045634,
     "end_time": "2024-10-18T11:34:29.572993",
     "exception": false,
     "start_time": "2024-10-18T11:30:27.527359",
     "status": "completed"
    },
    "tags": []
   },
   "outputs": [
    {
     "name": "stdout",
     "output_type": "stream",
     "text": [
      "Epoch 1/10\n",
      "\u001b[1m994/994\u001b[0m \u001b[32m━━━━━━━━━━━━━━━━━━━━\u001b[0m\u001b[37m\u001b[0m \u001b[1m28s\u001b[0m 24ms/step - accuracy: 0.7800 - loss: 0.6714 - val_accuracy: 0.8802 - val_loss: 0.3112\n",
      "Epoch 2/10\n",
      "\u001b[1m994/994\u001b[0m \u001b[32m━━━━━━━━━━━━━━━━━━━━\u001b[0m\u001b[37m\u001b[0m \u001b[1m24s\u001b[0m 24ms/step - accuracy: 0.9367 - loss: 0.1916 - val_accuracy: 0.8777 - val_loss: 0.3236\n",
      "Epoch 3/10\n",
      "\u001b[1m994/994\u001b[0m \u001b[32m━━━━━━━━━━━━━━━━━━━━\u001b[0m\u001b[37m\u001b[0m \u001b[1m24s\u001b[0m 24ms/step - accuracy: 0.9660 - loss: 0.1112 - val_accuracy: 0.8675 - val_loss: 0.3645\n",
      "Epoch 4/10\n",
      "\u001b[1m994/994\u001b[0m \u001b[32m━━━━━━━━━━━━━━━━━━━━\u001b[0m\u001b[37m\u001b[0m \u001b[1m23s\u001b[0m 24ms/step - accuracy: 0.9807 - loss: 0.0726 - val_accuracy: 0.8696 - val_loss: 0.4032\n",
      "Epoch 5/10\n",
      "\u001b[1m994/994\u001b[0m \u001b[32m━━━━━━━━━━━━━━━━━━━━\u001b[0m\u001b[37m\u001b[0m \u001b[1m24s\u001b[0m 24ms/step - accuracy: 0.9856 - loss: 0.0555 - val_accuracy: 0.8607 - val_loss: 0.3921\n",
      "Epoch 6/10\n",
      "\u001b[1m994/994\u001b[0m \u001b[32m━━━━━━━━━━━━━━━━━━━━\u001b[0m\u001b[37m\u001b[0m \u001b[1m24s\u001b[0m 24ms/step - accuracy: 0.9907 - loss: 0.0404 - val_accuracy: 0.8643 - val_loss: 0.5390\n",
      "Epoch 7/10\n",
      "\u001b[1m994/994\u001b[0m \u001b[32m━━━━━━━━━━━━━━━━━━━━\u001b[0m\u001b[37m\u001b[0m \u001b[1m24s\u001b[0m 24ms/step - accuracy: 0.9907 - loss: 0.0377 - val_accuracy: 0.8621 - val_loss: 0.4742\n",
      "Epoch 8/10\n",
      "\u001b[1m994/994\u001b[0m \u001b[32m━━━━━━━━━━━━━━━━━━━━\u001b[0m\u001b[37m\u001b[0m \u001b[1m24s\u001b[0m 24ms/step - accuracy: 0.9920 - loss: 0.0334 - val_accuracy: 0.8564 - val_loss: 0.6755\n",
      "Epoch 9/10\n",
      "\u001b[1m994/994\u001b[0m \u001b[32m━━━━━━━━━━━━━━━━━━━━\u001b[0m\u001b[37m\u001b[0m \u001b[1m24s\u001b[0m 24ms/step - accuracy: 0.9934 - loss: 0.0285 - val_accuracy: 0.8574 - val_loss: 0.6466\n",
      "Epoch 10/10\n",
      "\u001b[1m994/994\u001b[0m \u001b[32m━━━━━━━━━━━━━━━━━━━━\u001b[0m\u001b[37m\u001b[0m \u001b[1m24s\u001b[0m 24ms/step - accuracy: 0.9949 - loss: 0.0210 - val_accuracy: 0.8599 - val_loss: 0.6354\n"
     ]
    },
    {
     "data": {
      "text/plain": [
       "<keras.src.callbacks.history.History at 0x7ef5427945b0>"
      ]
     },
     "execution_count": 22,
     "metadata": {},
     "output_type": "execute_result"
    }
   ],
   "source": [
    "from tensorflow.keras.callbacks import EarlyStopping\n",
    "\n",
    "early_stopping = EarlyStopping(monitor='val_loss', patience=3, restore_best_weights=True)\n",
    "\n",
    "model.fit(X_train, y_train, validation_data=(X_val, y_val), epochs=10, batch_size=32)"
   ]
  },
  {
   "cell_type": "code",
   "execution_count": 23,
   "id": "24c17a29",
   "metadata": {
    "execution": {
     "iopub.execute_input": "2024-10-18T11:34:30.138207Z",
     "iopub.status.busy": "2024-10-18T11:34:30.137322Z",
     "iopub.status.idle": "2024-10-18T11:34:32.798644Z",
     "shell.execute_reply": "2024-10-18T11:34:32.797615Z"
    },
    "id": "7N-Kd1fLFE7m",
    "papermill": {
     "duration": 2.946116,
     "end_time": "2024-10-18T11:34:32.800774",
     "exception": false,
     "start_time": "2024-10-18T11:34:29.854658",
     "status": "completed"
    },
    "tags": []
   },
   "outputs": [
    {
     "name": "stdout",
     "output_type": "stream",
     "text": [
      "\u001b[1m249/249\u001b[0m \u001b[32m━━━━━━━━━━━━━━━━━━━━\u001b[0m\u001b[37m\u001b[0m \u001b[1m2s\u001b[0m 7ms/step - accuracy: 0.8574 - loss: 0.6256\n",
      "Validation Accuracy: 0.86\n"
     ]
    }
   ],
   "source": [
    "loss, accuracy = model.evaluate(X_val, y_val)\n",
    "\n",
    "print(f'Validation Accuracy: {accuracy:.2f}')"
   ]
  },
  {
   "cell_type": "code",
   "execution_count": 24,
   "id": "715e9b45",
   "metadata": {
    "execution": {
     "iopub.execute_input": "2024-10-18T11:34:33.425961Z",
     "iopub.status.busy": "2024-10-18T11:34:33.425308Z",
     "iopub.status.idle": "2024-10-18T11:34:33.431063Z",
     "shell.execute_reply": "2024-10-18T11:34:33.430102Z"
    },
    "id": "p2U2sbTaZo7z",
    "papermill": {
     "duration": 0.34657,
     "end_time": "2024-10-18T11:34:33.433096",
     "exception": false,
     "start_time": "2024-10-18T11:34:33.086526",
     "status": "completed"
    },
    "tags": []
   },
   "outputs": [],
   "source": [
    "def predict(new_text):\n",
    "    cleaned_new_text = clean_text(new_text)\n",
    "    new_sequence = tokenzier.texts_to_sequences([cleaned_new_text])\n",
    "    new_padded_sequence = pad_sequences(new_sequence, maxlen=max_len,padding='post')\n",
    "    prediction = model.predict(new_padded_sequence)\n",
    "    if prediction[0][0]>0.5:\n",
    "        return 'Good Review'\n",
    "    else:\n",
    "        return 'Bad Review'\n"
   ]
  },
  {
   "cell_type": "code",
   "execution_count": 25,
   "id": "d416f1a0",
   "metadata": {
    "execution": {
     "iopub.execute_input": "2024-10-18T11:34:33.999092Z",
     "iopub.status.busy": "2024-10-18T11:34:33.998344Z",
     "iopub.status.idle": "2024-10-18T11:34:34.178757Z",
     "shell.execute_reply": "2024-10-18T11:34:34.177882Z"
    },
    "papermill": {
     "duration": 0.466068,
     "end_time": "2024-10-18T11:34:34.180698",
     "exception": false,
     "start_time": "2024-10-18T11:34:33.714630",
     "status": "completed"
    },
    "tags": []
   },
   "outputs": [
    {
     "name": "stdout",
     "output_type": "stream",
     "text": [
      "\u001b[1m1/1\u001b[0m \u001b[32m━━━━━━━━━━━━━━━━━━━━\u001b[0m\u001b[37m\u001b[0m \u001b[1m0s\u001b[0m 133ms/step\n"
     ]
    },
    {
     "data": {
      "text/plain": [
       "'Good Review'"
      ]
     },
     "execution_count": 25,
     "metadata": {},
     "output_type": "execute_result"
    }
   ],
   "source": [
    "predict('the film is too good')"
   ]
  },
  {
   "cell_type": "code",
   "execution_count": 26,
   "id": "4db61369",
   "metadata": {
    "execution": {
     "iopub.execute_input": "2024-10-18T11:34:34.747748Z",
     "iopub.status.busy": "2024-10-18T11:34:34.746846Z",
     "iopub.status.idle": "2024-10-18T11:34:34.813231Z",
     "shell.execute_reply": "2024-10-18T11:34:34.812272Z"
    },
    "papermill": {
     "duration": 0.351519,
     "end_time": "2024-10-18T11:34:34.815111",
     "exception": false,
     "start_time": "2024-10-18T11:34:34.463592",
     "status": "completed"
    },
    "tags": []
   },
   "outputs": [
    {
     "name": "stdout",
     "output_type": "stream",
     "text": [
      "\u001b[1m1/1\u001b[0m \u001b[32m━━━━━━━━━━━━━━━━━━━━\u001b[0m\u001b[37m\u001b[0m \u001b[1m0s\u001b[0m 17ms/step\n"
     ]
    },
    {
     "data": {
      "text/plain": [
       "'Bad Review'"
      ]
     },
     "execution_count": 26,
     "metadata": {},
     "output_type": "execute_result"
    }
   ],
   "source": [
    "predict('the film is too bad')"
   ]
  },
  {
   "cell_type": "code",
   "execution_count": 27,
   "id": "b53289b2",
   "metadata": {
    "execution": {
     "iopub.execute_input": "2024-10-18T11:34:35.385401Z",
     "iopub.status.busy": "2024-10-18T11:34:35.385019Z",
     "iopub.status.idle": "2024-10-18T11:34:35.455871Z",
     "shell.execute_reply": "2024-10-18T11:34:35.454699Z"
    },
    "papermill": {
     "duration": 0.359983,
     "end_time": "2024-10-18T11:34:35.458634",
     "exception": false,
     "start_time": "2024-10-18T11:34:35.098651",
     "status": "completed"
    },
    "tags": []
   },
   "outputs": [
    {
     "name": "stdout",
     "output_type": "stream",
     "text": [
      "\u001b[1m1/1\u001b[0m \u001b[32m━━━━━━━━━━━━━━━━━━━━\u001b[0m\u001b[37m\u001b[0m \u001b[1m0s\u001b[0m 19ms/step\n"
     ]
    },
    {
     "data": {
      "text/plain": [
       "'Bad Review'"
      ]
     },
     "execution_count": 27,
     "metadata": {},
     "output_type": "execute_result"
    }
   ],
   "source": [
    "predict('Directing is very poor')"
   ]
  },
  {
   "cell_type": "markdown",
   "id": "555607ee",
   "metadata": {
    "papermill": {
     "duration": 0.281701,
     "end_time": "2024-10-18T11:34:36.034090",
     "exception": false,
     "start_time": "2024-10-18T11:34:35.752389",
     "status": "completed"
    },
    "tags": []
   },
   "source": [
    "# Saving The Model"
   ]
  },
  {
   "cell_type": "code",
   "execution_count": 28,
   "id": "e56a656c",
   "metadata": {
    "execution": {
     "iopub.execute_input": "2024-10-18T11:34:36.650981Z",
     "iopub.status.busy": "2024-10-18T11:34:36.650211Z",
     "iopub.status.idle": "2024-10-18T11:34:36.784691Z",
     "shell.execute_reply": "2024-10-18T11:34:36.783873Z"
    },
    "papermill": {
     "duration": 0.421637,
     "end_time": "2024-10-18T11:34:36.786989",
     "exception": false,
     "start_time": "2024-10-18T11:34:36.365352",
     "status": "completed"
    },
    "tags": []
   },
   "outputs": [],
   "source": [
    "import pickle\n",
    "\n",
    "# Save the tokenizer\n",
    "with open('tokenizer.pickle', 'wb') as handle:\n",
    "    pickle.dump(tokenzier, handle, protocol=pickle.HIGHEST_PROTOCOL)"
   ]
  },
  {
   "cell_type": "code",
   "execution_count": 29,
   "id": "6495fc1c",
   "metadata": {
    "execution": {
     "iopub.execute_input": "2024-10-18T11:34:37.352554Z",
     "iopub.status.busy": "2024-10-18T11:34:37.351886Z",
     "iopub.status.idle": "2024-10-18T11:34:37.674443Z",
     "shell.execute_reply": "2024-10-18T11:34:37.673579Z"
    },
    "papermill": {
     "duration": 0.609109,
     "end_time": "2024-10-18T11:34:37.676844",
     "exception": false,
     "start_time": "2024-10-18T11:34:37.067735",
     "status": "completed"
    },
    "tags": []
   },
   "outputs": [],
   "source": [
    "from keras.models import load_model\n",
    "\n",
    "# Save the model\n",
    "model.save('movie_review_model.h5')\n"
   ]
  }
 ],
 "metadata": {
  "accelerator": "GPU",
  "colab": {
   "gpuType": "T4",
   "provenance": []
  },
  "kaggle": {
   "accelerator": "none",
   "dataSources": [],
   "dockerImageVersionId": 30787,
   "isGpuEnabled": false,
   "isInternetEnabled": true,
   "language": "python",
   "sourceType": "notebook"
  },
  "kernelspec": {
   "display_name": "Python 3",
   "language": "python",
   "name": "python3"
  },
  "language_info": {
   "codemirror_mode": {
    "name": "ipython",
    "version": 3
   },
   "file_extension": ".py",
   "mimetype": "text/x-python",
   "name": "python",
   "nbconvert_exporter": "python",
   "pygments_lexer": "ipython3",
   "version": "3.10.14"
  },
  "papermill": {
   "default_parameters": {},
   "duration": 492.97316,
   "end_time": "2024-10-18T11:34:41.128636",
   "environment_variables": {},
   "exception": null,
   "input_path": "__notebook__.ipynb",
   "output_path": "__notebook__.ipynb",
   "parameters": {},
   "start_time": "2024-10-18T11:26:28.155476",
   "version": "2.6.0"
  }
 },
 "nbformat": 4,
 "nbformat_minor": 5
}
